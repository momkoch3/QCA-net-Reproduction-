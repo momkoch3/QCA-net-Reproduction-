{
 "cells": [
  {
   "cell_type": "code",
   "execution_count": 1,
   "id": "dbc73f7c",
   "metadata": {
    "_cell_guid": "b1076dfc-b9ad-4769-8c92-a6c4dae69d19",
    "_uuid": "8f2839f25d086af736a60e9eeb907d3b93b6e0e5",
    "execution": {
     "iopub.execute_input": "2024-03-26T15:50:26.067155Z",
     "iopub.status.busy": "2024-03-26T15:50:26.066765Z",
     "iopub.status.idle": "2024-03-26T15:50:47.061326Z",
     "shell.execute_reply": "2024-03-26T15:50:47.060351Z"
    },
    "papermill": {
     "duration": 21.005179,
     "end_time": "2024-03-26T15:50:47.064210",
     "exception": false,
     "start_time": "2024-03-26T15:50:26.059031",
     "status": "completed"
    },
    "tags": []
   },
   "outputs": [
    {
     "name": "stderr",
     "output_type": "stream",
     "text": [
      "2024-03-26 15:50:37.787266: E external/local_xla/xla/stream_executor/cuda/cuda_dnn.cc:9261] Unable to register cuDNN factory: Attempting to register factory for plugin cuDNN when one has already been registered\n",
      "2024-03-26 15:50:37.787400: E external/local_xla/xla/stream_executor/cuda/cuda_fft.cc:607] Unable to register cuFFT factory: Attempting to register factory for plugin cuFFT when one has already been registered\n",
      "2024-03-26 15:50:37.924995: E external/local_xla/xla/stream_executor/cuda/cuda_blas.cc:1515] Unable to register cuBLAS factory: Attempting to register factory for plugin cuBLAS when one has already been registered\n"
     ]
    }
   ],
   "source": [
    "import numpy as np\n",
    "import torch as torch\n",
    "import torch.nn as nn\n",
    "from torchvision import transforms, utils\n",
    "from torch.utils.data import DataLoader, Dataset, Subset\n",
    "import matplotlib.pyplot as plt\n",
    "from torchinfo import summary\n",
    "from skimage import io\n",
    "import os\n",
    "import pandas as pd\n",
    "from skimage import transform as tr\n",
    "import torch.optim as optim\n",
    "from torch.utils.tensorboard import SummaryWriter\n",
    "import tqdm\n",
    "from datetime import datetime\n",
    "import pytz"
   ]
  },
  {
   "cell_type": "code",
   "execution_count": 2,
   "id": "f852d296",
   "metadata": {
    "execution": {
     "iopub.execute_input": "2024-03-26T15:50:47.077896Z",
     "iopub.status.busy": "2024-03-26T15:50:47.077199Z",
     "iopub.status.idle": "2024-03-26T15:50:47.148348Z",
     "shell.execute_reply": "2024-03-26T15:50:47.147212Z"
    },
    "papermill": {
     "duration": 0.080724,
     "end_time": "2024-03-26T15:50:47.151054",
     "exception": false,
     "start_time": "2024-03-26T15:50:47.070330",
     "status": "completed"
    },
    "tags": []
   },
   "outputs": [],
   "source": [
    "#Creating arrays that store all the training and test data paths\n",
    "\n",
    "#NOTE THAT THE DATA SHOULD BE UPLOADED ON KAGGLE AND ADDED AS INPUT (See FILE-> ADD INPUT)\n",
    "#THESE ROOT PATHS SHOULD BE CHANGED ACCORDING TO YOUR KAGGLE SETUP!\n",
    "\n",
    "#THESE ROOT PATHS SHOULD BE CHANGED ACCORDING TO YOUR SETUP!\n",
    "root = \"/kaggle/input/embryo-data/\"\n",
    "train_data_path = root + \"Images/Images/train/Images/\"\n",
    "test_data_path = root + \"Images/Images/test/Images/\"\n",
    "ground_truth_data_path = root + \"GroundTruth/GroundTruth/train/GroundTruth_NSN/\"\n",
    "ground_truth_test = root + \"GroundTruth/GroundTruth/test/GroundTruth_QCANet/\"\n",
    "\n",
    "train_data_paths = np.array([(train_data_path+filename) for filename in os.listdir(train_data_path) if 'Emb11' not in filename])\n",
    "val_data_paths = np.array([(train_data_path+filename) for filename in os.listdir(train_data_path) if 'Emb11' in filename])\n",
    "test_data_paths = np.array([test_data_path+i for i in os.listdir(test_data_path)])"
   ]
  },
  {
   "cell_type": "code",
   "execution_count": 3,
   "id": "2e956168",
   "metadata": {
    "execution": {
     "iopub.execute_input": "2024-03-26T15:50:47.164634Z",
     "iopub.status.busy": "2024-03-26T15:50:47.164226Z",
     "iopub.status.idle": "2024-03-26T15:50:47.183663Z",
     "shell.execute_reply": "2024-03-26T15:50:47.182567Z"
    },
    "papermill": {
     "duration": 0.029173,
     "end_time": "2024-03-26T15:50:47.186180",
     "exception": false,
     "start_time": "2024-03-26T15:50:47.157007",
     "status": "completed"
    },
    "tags": []
   },
   "outputs": [],
   "source": [
    "#Custom Torch dataset class to create a dataset and pass it to Torch dataloaders\n",
    "class EmbryoImageDataset(Dataset):\n",
    "    def __init__(self, \n",
    "                 image_paths, \n",
    "                 ground_truth_dir, \n",
    "                 transform=None, \n",
    "                 flip_augmentation = [False, None],\n",
    "                test_data = False):\n",
    "        self.ground_truth_dir = ground_truth_dir\n",
    "        self.image_paths = image_paths\n",
    "        self.transform = transform\n",
    "        self.flip_augmentation = flip_augmentation\n",
    "\n",
    "    def __len__(self):\n",
    "        return len(self.image_paths)\n",
    "\n",
    "    def __getitem__(self, index):\n",
    "        \n",
    "        image = io.imread(self.image_paths[index])\n",
    "        filename = self.image_paths[index].split('/')[-1]\n",
    "        ground_truth = io.imread(self.ground_truth_dir + filename)\n",
    "        \n",
    "        if self.transform is not None:\n",
    "            image = self.transform(image)\n",
    "            ground_truth = self.transform(ground_truth)\n",
    "            \n",
    "        if self.flip_augmentation[0]:\n",
    "            #print(\"FLIPPING\", self.flip_augmentation[0], self.flip_augmentation[1] )\n",
    "            image = np.flip(image, axis = self.flip_augmentation[1])\n",
    "            ground_truth = np.flip(ground_truth, axis = self.flip_augmentation[1])\n",
    "            \n",
    "        if test_data: \n",
    "            #Ground truth of test data was instance segmentation ground truth, therefore all values bigger than 0 should be set to 1\n",
    "            ground_truth = ((ground_truth>0)*1).astype(ground_truth.dtype) \n",
    "    \n",
    "        return torch.from_numpy(image.copy().astype('float32')), torch.from_numpy(ground_truth.copy().astype('float32'))\n",
    "    \n",
    "\n",
    "class NormalizeImage(object):\n",
    "    \n",
    "    def __init__(self):\n",
    "        pass\n",
    "    \n",
    "    def __call__(self, image):\n",
    "        \n",
    "        img = (image-np.min(image))/(np.max(image)-np.min(image))\n",
    "        \n",
    "        return img\n",
    "    \n",
    "#Class that can perform a transform that interpolates the images along z, according to the resolution. \n",
    "# This class also makes sure that the object is of the desired size. In this case 128x128x128\n",
    "class Resize_and_pad(object):\n",
    "    \n",
    "    def __init__(self, resolution = [0.8,0.8,1.75], desired_size = 128):\n",
    "        \n",
    "        self.resolution = resolution\n",
    "        self.desired_size = desired_size\n",
    "        \n",
    "    def __call__(self, image):\n",
    "        \n",
    "        \n",
    "        shape = np.shape(image)\n",
    "        resize_factor = np.array(self.resolution)/0.8\n",
    "\n",
    "        resized_image = tr.resize(image, \n",
    "                                  (shape[0]*resize_factor[2], \n",
    "                                   shape[1]*resize_factor[1], \n",
    "                                   shape[2]*resize_factor[0]),\n",
    "                                     order=1)\n",
    "        \n",
    "        delta_shape = [128-value for value in resized_image.shape]\n",
    "        max_pad_width = np.max(delta_shape)\n",
    "\n",
    "        padded_image = np.pad(resized_image,[[0,max_pad_width],[0,max_pad_width],[0,max_pad_width]], mode = 'reflect')\n",
    "        final_image = padded_image[:self.desired_size,:self.desired_size,:self.desired_size]\n",
    "        \n",
    "        return final_image\n",
    "        "
   ]
  },
  {
   "cell_type": "code",
   "execution_count": 4,
   "id": "e81ab417",
   "metadata": {
    "execution": {
     "iopub.execute_input": "2024-03-26T15:50:47.199811Z",
     "iopub.status.busy": "2024-03-26T15:50:47.199438Z",
     "iopub.status.idle": "2024-03-26T15:50:47.212892Z",
     "shell.execute_reply": "2024-03-26T15:50:47.211849Z"
    },
    "papermill": {
     "duration": 0.023567,
     "end_time": "2024-03-26T15:50:47.215612",
     "exception": false,
     "start_time": "2024-03-26T15:50:47.192045",
     "status": "completed"
    },
    "tags": []
   },
   "outputs": [
    {
     "name": "stdout",
     "output_type": "stream",
     "text": [
      "440\n",
      "11\n",
      "44\n"
     ]
    }
   ],
   "source": [
    "#Here the train and test dataset are created\n",
    "\n",
    "#Composing transforms (normalization, resizing and padding)\n",
    "composed = transforms.Compose([NormalizeImage(), Resize_and_pad(resolution= [0.8,0.8,1.75])])\n",
    "#For the test set there was a different resolution so different transformation is needed\n",
    "composed_test = composed = transforms.Compose([NormalizeImage(), Resize_and_pad(resolution= [0.8,0.8,2.0])])\n",
    "\n",
    "#creating standard train dataset\n",
    "train_data = EmbryoImageDataset(image_paths = train_data_paths,\n",
    "                               ground_truth_dir = ground_truth_data_path,\n",
    "                               transform = composed)\n",
    "\n",
    "#creating the validation dataset for evaluating the model during training\n",
    "val_data = EmbryoImageDataset(image_paths = val_data_paths,\n",
    "                               ground_truth_dir = ground_truth_data_path,\n",
    "                               transform = composed)\n",
    "\n",
    "#Creating the test dataset for when the model is fully trained\n",
    "test_data = EmbryoImageDataset(image_paths = test_data_paths,\n",
    "                              ground_truth_dir= ground_truth_test,\n",
    "                              test_data= True, transform = composed_test)\n",
    "\n",
    "#Here data augmentation is performed by creating additional datasets that flip over the x-,y- and x&y-axis.\n",
    "# This gives x4 the original datasize\n",
    "train_data_flipx = EmbryoImageDataset(image_paths = train_data_paths,\n",
    "                               ground_truth_dir = ground_truth_data_path,\n",
    "                               transform = composed,\n",
    "                                flip_augmentation= [True, 1])\n",
    "train_data_flipy = EmbryoImageDataset(image_paths = train_data_paths,\n",
    "                               ground_truth_dir = ground_truth_data_path,\n",
    "                               transform = composed,\n",
    "                                flip_augmentation= [True, 2])\n",
    "train_data_flipxy = EmbryoImageDataset(image_paths = train_data_paths,\n",
    "                               ground_truth_dir = ground_truth_data_path,\n",
    "                               transform = composed,\n",
    "                                flip_augmentation= [True, (0,1)])\n",
    "\n",
    "#Here all the train datasets are combined to form the augmented dataset with x4 data size\n",
    "augmented_train_data = torch.utils.data.ConcatDataset([train_data,train_data_flipx,train_data_flipy,train_data_flipxy])\n",
    "\n",
    "batch_size = 1\n",
    "#Creating the dataloaders based on the created datasets\n",
    "train_loader = DataLoader(augmented_train_data, batch_size=batch_size, shuffle=True)\n",
    "val_loader = DataLoader(val_data, batch_size=batch_size, shuffle=True)\n",
    "test_loader = DataLoader(test_data, batch_size=batch_size,shuffle=True)\n",
    "\n",
    "#Printing the amount of training/test images in both datasets\n",
    "print(len(augmented_train_data))\n",
    "print(len(val_data))\n",
    "print(len(test_data))"
   ]
  },
  {
   "cell_type": "code",
   "execution_count": 5,
   "id": "cfa1ee44",
   "metadata": {
    "execution": {
     "iopub.execute_input": "2024-03-26T15:50:47.229161Z",
     "iopub.status.busy": "2024-03-26T15:50:47.228521Z",
     "iopub.status.idle": "2024-03-26T15:50:48.265082Z",
     "shell.execute_reply": "2024-03-26T15:50:48.263990Z"
    },
    "papermill": {
     "duration": 1.046828,
     "end_time": "2024-03-26T15:50:48.268254",
     "exception": false,
     "start_time": "2024-03-26T15:50:47.221426",
     "status": "completed"
    },
    "tags": []
   },
   "outputs": [
    {
     "data": {
      "image/png": "[encoded data removed]",
      "text/plain": [
       "<Figure size 640x480 with 2 Axes>"
      ]
     },
     "metadata": {},
     "output_type": "display_data"
    },
    {
     "name": "stdout",
     "output_type": "stream",
     "text": [
      "torch.Size([128, 128, 128]) torch.Size([128, 128, 128])\n",
      "torch.float32 torch.float32\n"
     ]
    }
   ],
   "source": [
    "#Visualizing a random training sample from the training dataset\n",
    "\n",
    "N = 64\n",
    "fig, ax = plt.subplots(1, 2)\n",
    "\n",
    "index = int(np.random.rand()*len(augmented_train_data))\n",
    "\n",
    "image, truth = augmented_train_data[index]\n",
    "\n",
    "ax[0].imshow(image[N])\n",
    "ax[0].set_title(\"Image\")\n",
    "ax[1].imshow(truth[N])\n",
    "ax[1].set_title(\"Ground Truth\")\n",
    "plt.show()\n",
    "\n",
    "print(image.shape, truth.shape)\n",
    "print(image.dtype, truth.dtype)"
   ]
  },
  {
   "cell_type": "code",
   "execution_count": 6,
   "id": "818fc013",
   "metadata": {
    "execution": {
     "iopub.execute_input": "2024-03-26T15:50:48.285210Z",
     "iopub.status.busy": "2024-03-26T15:50:48.284127Z",
     "iopub.status.idle": "2024-03-26T15:50:49.156734Z",
     "shell.execute_reply": "2024-03-26T15:50:49.155650Z"
    },
    "papermill": {
     "duration": 0.885884,
     "end_time": "2024-03-26T15:50:49.161580",
     "exception": false,
     "start_time": "2024-03-26T15:50:48.275696",
     "status": "completed"
    },
    "tags": []
   },
   "outputs": [
    {
     "data": {
      "image/png": "[encoded data removed]",
      "text/plain": [
       "<Figure size 640x480 with 2 Axes>"
      ]
     },
     "metadata": {},
     "output_type": "display_data"
    },
    {
     "name": "stdout",
     "output_type": "stream",
     "text": [
      "torch.Size([128, 128, 128]) torch.Size([128, 128, 128])\n"
     ]
    }
   ],
   "source": [
    "#Visualizing a random test sample of the validation dataset\n",
    "\n",
    "N = 64\n",
    "fig, ax = plt.subplots(1, 2)\n",
    "\n",
    "index = int(np.random.rand()*len(val_data))\n",
    "\n",
    "image, truth = val_data[index]\n",
    "\n",
    "ax[0].imshow(image[N])\n",
    "ax[0].set_title(\"Image\")\n",
    "ax[1].imshow(truth[N])\n",
    "ax[1].set_title(\"Ground Truth\")\n",
    "plt.show()\n",
    "\n",
    "print(image.shape, truth.shape)"
   ]
  },
  {
   "cell_type": "code",
   "execution_count": 7,
   "id": "61fe67a0",
   "metadata": {
    "execution": {
     "iopub.execute_input": "2024-03-26T15:50:49.180785Z",
     "iopub.status.busy": "2024-03-26T15:50:49.180378Z",
     "iopub.status.idle": "2024-03-26T15:50:49.205119Z",
     "shell.execute_reply": "2024-03-26T15:50:49.204256Z"
    },
    "papermill": {
     "duration": 0.037323,
     "end_time": "2024-03-26T15:50:49.207502",
     "exception": false,
     "start_time": "2024-03-26T15:50:49.170179",
     "status": "completed"
    },
    "tags": []
   },
   "outputs": [],
   "source": [
    "#Our own very straightforward, albeit not super nice, implementation of the U-net 3D architecture by the paper: '3D U-Net: Learning Dense Volumetric Segmentation from Sparse Annotation'\n",
    "class NSN(nn.Module):\n",
    "    \n",
    "    def __init__(self, in_channels = 1, out_channels = 1): \n",
    "        super(NSN, self).__init__()\n",
    "        \n",
    "        #Activation functions and maxpooling\n",
    "        self.relu = nn.ReLU()\n",
    "        self.sig = nn.Sigmoid()\n",
    "        self.maxpool = nn.MaxPool3d(kernel_size=(2,2,2), stride=2)\n",
    "        \n",
    "        #Encoder Block 1\n",
    "        self.conv1 = nn.Conv3d(in_channels = in_channels, out_channels = 16, kernel_size = (3,3,3), padding = 1)\n",
    "        self.bn1 = nn.BatchNorm3d(16)\n",
    "        self.conv2 = nn.Conv3d(in_channels = 16, out_channels = 32, kernel_size = (3,3,3), padding = 1)\n",
    "        self.bn2 = nn.BatchNorm3d(32)\n",
    "        \n",
    "        #Encoder Block 2\n",
    "        self.conv3 = nn.Conv3d(in_channels = 32, out_channels = 32, kernel_size = (3,3,3), padding = 1)\n",
    "        self.bn3 = nn.BatchNorm3d(32)\n",
    "        self.conv4 = nn.Conv3d(in_channels = 32, out_channels = 64, kernel_size = (3,3,3), padding = 1)\n",
    "        self.bn4 = nn.BatchNorm3d(64)\n",
    "        \n",
    "        #Bottleneck block\n",
    "        self.conv5 = nn.Conv3d(in_channels = 64, out_channels = 64, kernel_size = (3,3,3), padding = 1)\n",
    "        self.bn5 = nn.BatchNorm3d(64)\n",
    "        self.conv6 = nn.Conv3d(in_channels = 64, out_channels = 128, kernel_size = (3,3,3), padding = 1)\n",
    "        self.bn6 = nn.BatchNorm3d(128)\n",
    "        \n",
    "        #Decoder Block 1\n",
    "        self.upconv1 = nn.ConvTranspose3d(in_channels = 128, out_channels = 128, kernel_size = (2,2,2), stride = 2)\n",
    "        self.conv7 = nn.Conv3d(in_channels = 128+64, out_channels = 64, kernel_size = (3,3,3), padding = 1)\n",
    "        self.bn7 = nn.BatchNorm3d(64)\n",
    "        self.conv8 = nn.Conv3d(in_channels = 64, out_channels = 64, kernel_size = (3,3,3), padding = 1)\n",
    "        self.bn8 = nn.BatchNorm3d(64)\n",
    "       \n",
    "        #Decoder Block 2\n",
    "        self.upconv2 = nn.ConvTranspose3d(in_channels = 64, out_channels = 64, kernel_size = (2,2,2), stride = 2)\n",
    "        self.conv9 = nn.Conv3d(in_channels = 64+32, out_channels = 32, kernel_size = (3,3,3), padding = 1)\n",
    "        self.bn9 = nn.BatchNorm3d(32)\n",
    "        self.conv10 = nn.Conv3d(in_channels = 32, out_channels = 32, kernel_size = (3,3,3), padding = 1)\n",
    "        self.bn10 = nn.BatchNorm3d(32)\n",
    "        \n",
    "        #Final convolution\n",
    "        self.conv11 = nn.Conv3d(in_channels = 32, out_channels = out_channels, kernel_size = (1,1,1))\n",
    "        \n",
    "    def forward(self, input):\n",
    "\n",
    "        #Encoder Block 1\n",
    "        out = self.relu(self.bn1(self.conv1(input)))\n",
    "        out = self.relu(self.bn2(self.conv2(out)))\n",
    "        skip_connection1 = out\n",
    "        out = self.maxpool(out)\n",
    "\n",
    "        #Encoder Block 2\n",
    "        out = self.relu(self.bn3(self.conv3(out)))\n",
    "        out = self.relu(self.bn4(self.conv4(out)))\n",
    "        skip_connection2 = out\n",
    "        out = self.maxpool(out)\n",
    "\n",
    "        #Bottleneck layer\n",
    "        out = self.relu(self.bn5(self.conv5(out)))\n",
    "        out = self.relu(self.bn6(self.conv6(out)))\n",
    "        \n",
    "        #Decoder Block 1\n",
    "        out = self.upconv1(out)\n",
    "        out = torch.cat(tensors = (out, skip_connection2), dim = 1)\n",
    "        out = self.relu(self.bn7(self.conv7(out)))\n",
    "        out = self.relu(self.bn8(self.conv8(out)))\n",
    "\n",
    "        #Decoder Block 2\n",
    "        out = self.upconv2(out)\n",
    "        out = torch.cat(tensors = (out, skip_connection1), dim = 1)\n",
    "        out = self.relu(self.bn9(self.conv9(out)))\n",
    "        out = self.relu(self.bn10(self.conv10(out)))\n",
    "\n",
    "        \n",
    "        #Final convolution + sigmoid activation\n",
    "        out = self.conv11(out)\n",
    "        out = self.sig(out)\n",
    "\n",
    "        return out"
   ]
  },
  {
   "cell_type": "code",
   "execution_count": 8,
   "id": "6e6ef58d",
   "metadata": {
    "execution": {
     "iopub.execute_input": "2024-03-26T15:50:49.226275Z",
     "iopub.status.busy": "2024-03-26T15:50:49.225525Z",
     "iopub.status.idle": "2024-03-26T15:50:49.546147Z",
     "shell.execute_reply": "2024-03-26T15:50:49.545183Z"
    },
    "papermill": {
     "duration": 0.332948,
     "end_time": "2024-03-26T15:50:49.548887",
     "exception": false,
     "start_time": "2024-03-26T15:50:49.215939",
     "status": "completed"
    },
    "tags": []
   },
   "outputs": [
    {
     "name": "stdout",
     "output_type": "stream",
     "text": [
      "Current device: cuda\n"
     ]
    }
   ],
   "source": [
    "#Specifying the device, testing whether there is a GPU available\n",
    "device = torch.device(\"cuda\" if torch.cuda.is_available() else \"cpu\")\n",
    "print(f'Current device: {device}')\n",
    "\n",
    "#Creating an instance of the network and moving it to the created device\n",
    "net = NSN(in_channels= 1, out_channels = 1).to(device)\n",
    "\n",
    "#Set optimizer to adam\n",
    "lr = 0.0001\n",
    "optimizer = optim.Adam(net.parameters(), lr = lr)"
   ]
  },
  {
   "cell_type": "code",
   "execution_count": 9,
   "id": "22d9903a",
   "metadata": {
    "execution": {
     "iopub.execute_input": "2024-03-26T15:50:49.567975Z",
     "iopub.status.busy": "2024-03-26T15:50:49.567034Z",
     "iopub.status.idle": "2024-03-26T15:50:49.583376Z",
     "shell.execute_reply": "2024-03-26T15:50:49.582211Z"
    },
    "papermill": {
     "duration": 0.028606,
     "end_time": "2024-03-26T15:50:49.585778",
     "exception": false,
     "start_time": "2024-03-26T15:50:49.557172",
     "status": "completed"
    },
    "tags": []
   },
   "outputs": [],
   "source": [
    "#Function to return the IoU validation score of the best performing network:\n",
    "def highest_IoU(bestnetwork_file_path, device):\n",
    "    highest_score = 0\n",
    "    if os.path.isfile(checkpoint_file_path):\n",
    "        print(\"Best network file found\")\n",
    "        if device.type == \"cpu\":\n",
    "            file = torch.load(bestnetwork_file_path, torch.device('cpu'))\n",
    "            highest_score = file['loss_acc']['Validation accuracy'][-1].item()\n",
    "        else:\n",
    "            file = torch.load(bestnetwork_file_path, torch.device('cuda'))\n",
    "            highest_score = file['loss_acc']['Validation accuracy'][-1].item()\n",
    "        print(f\"Using highest accuracy score of {highest_score}\")\n",
    "    else:\n",
    "        print(\"No previous score found, using default value of 0\")\n",
    "    \n",
    "    return highest_score\n",
    "    \n",
    "    \n",
    "#If checkpoint file exists, load the file and set model and optimizer parameters\n",
    "def loadprev_training(checkpoint_file_path, device, network, optimizer):\n",
    "\n",
    "    start_epoch = 0\n",
    "    checkpoint_file = None\n",
    "    \n",
    "    train_loss_array = []\n",
    "    train_acc_array = []\n",
    "    val_loss_array = []\n",
    "    val_acc_array = []\n",
    "\n",
    "    if os.path.isfile(checkpoint_file_path):\n",
    "        print(\"Checkpoint file found\")\n",
    "        if device.type == \"cpu\":\n",
    "            \n",
    "            checkpoint_file = torch.load(checkpoint_file_path, torch.device('cpu'))\n",
    "            \n",
    "            start_epoch = checkpoint_file['epoch'] + 1\n",
    "            \n",
    "            network.load_state_dict(checkpoint_file['net_state_dict'])\n",
    "            optimizer.load_state_dict(checkpoint_file['optimizer_state_dict'])\n",
    "            \n",
    "            train_loss_array = (checkpoint_file['loss_acc']['Train loss'])\n",
    "            train_acc_array = (checkpoint_file['loss_acc']['Train accuracy'])\n",
    "            val_loss_array = (checkpoint_file['loss_acc']['Validation loss'])\n",
    "            val_acc_array = (checkpoint_file['loss_acc']['Validation accuracy'])\n",
    "            \n",
    "        else:\n",
    "            checkpoint_file = torch.load(checkpoint_file_path, torch.device('cuda'))\n",
    "            \n",
    "            start_epoch = checkpoint_file['epoch']+1\n",
    "            \n",
    "            network.load_state_dict(checkpoint_file['net_state_dict'])\n",
    "            optimizer.load_state_dict(checkpoint_file['optimizer_state_dict'])\n",
    "            \n",
    "            train_loss_array = (checkpoint_file['loss_acc']['Train loss'])\n",
    "            train_acc_array = (checkpoint_file['loss_acc']['Train accuracy'])\n",
    "            val_loss_array = (checkpoint_file['loss_acc']['Validation loss'])\n",
    "            val_acc_array = (checkpoint_file['loss_acc']['Validation accuracy'])\n",
    "        print(\"#######################################\")\n",
    "        print(f\"Settings loaded succesfully on device: {device}\\nStarting epoch: {start_epoch}\\nCurrent training loss: {train_loss_array[-1]}\\nCurrent IoU Validation score: {val_acc_array[-1]}\")\n",
    "        print(\"#######################################\")\n",
    "\n",
    "    else:\n",
    "        print(\"No previous training run file found, using default settings\")\n",
    "        \n",
    "    return start_epoch, network, optimizer, train_loss_array, train_acc_array, val_loss_array, val_acc_array\n",
    "        "
   ]
  },
  {
   "cell_type": "code",
   "execution_count": 10,
   "id": "47173ad3",
   "metadata": {
    "execution": {
     "iopub.execute_input": "2024-03-26T15:50:49.604100Z",
     "iopub.status.busy": "2024-03-26T15:50:49.603746Z",
     "iopub.status.idle": "2024-03-26T15:50:50.437851Z",
     "shell.execute_reply": "2024-03-26T15:50:50.436787Z"
    },
    "papermill": {
     "duration": 0.846125,
     "end_time": "2024-03-26T15:50:50.440287",
     "exception": false,
     "start_time": "2024-03-26T15:50:49.594162",
     "status": "completed"
    },
    "tags": []
   },
   "outputs": [
    {
     "data": {
      "text/plain": [
       "==========================================================================================\n",
       "Layer (type:depth-idx)                   Output Shape              Param #\n",
       "==========================================================================================\n",
       "NSN                                      [1, 1, 128, 128, 128]     --\n",
       "├─Conv3d: 1-1                            [1, 16, 128, 128, 128]    448\n",
       "├─BatchNorm3d: 1-2                       [1, 16, 128, 128, 128]    32\n",
       "├─ReLU: 1-3                              [1, 16, 128, 128, 128]    --\n",
       "├─Conv3d: 1-4                            [1, 32, 128, 128, 128]    13,856\n",
       "├─BatchNorm3d: 1-5                       [1, 32, 128, 128, 128]    64\n",
       "├─ReLU: 1-6                              [1, 32, 128, 128, 128]    --\n",
       "├─MaxPool3d: 1-7                         [1, 32, 64, 64, 64]       --\n",
       "├─Conv3d: 1-8                            [1, 32, 64, 64, 64]       27,680\n",
       "├─BatchNorm3d: 1-9                       [1, 32, 64, 64, 64]       64\n",
       "├─ReLU: 1-10                             [1, 32, 64, 64, 64]       --\n",
       "├─Conv3d: 1-11                           [1, 64, 64, 64, 64]       55,360\n",
       "├─BatchNorm3d: 1-12                      [1, 64, 64, 64, 64]       128\n",
       "├─ReLU: 1-13                             [1, 64, 64, 64, 64]       --\n",
       "├─MaxPool3d: 1-14                        [1, 64, 32, 32, 32]       --\n",
       "├─Conv3d: 1-15                           [1, 64, 32, 32, 32]       110,656\n",
       "├─BatchNorm3d: 1-16                      [1, 64, 32, 32, 32]       128\n",
       "├─ReLU: 1-17                             [1, 64, 32, 32, 32]       --\n",
       "├─Conv3d: 1-18                           [1, 128, 32, 32, 32]      221,312\n",
       "├─BatchNorm3d: 1-19                      [1, 128, 32, 32, 32]      256\n",
       "├─ReLU: 1-20                             [1, 128, 32, 32, 32]      --\n",
       "├─ConvTranspose3d: 1-21                  [1, 128, 64, 64, 64]      131,200\n",
       "├─Conv3d: 1-22                           [1, 64, 64, 64, 64]       331,840\n",
       "├─BatchNorm3d: 1-23                      [1, 64, 64, 64, 64]       128\n",
       "├─ReLU: 1-24                             [1, 64, 64, 64, 64]       --\n",
       "├─Conv3d: 1-25                           [1, 64, 64, 64, 64]       110,656\n",
       "├─BatchNorm3d: 1-26                      [1, 64, 64, 64, 64]       128\n",
       "├─ReLU: 1-27                             [1, 64, 64, 64, 64]       --\n",
       "├─ConvTranspose3d: 1-28                  [1, 64, 128, 128, 128]    32,832\n",
       "├─Conv3d: 1-29                           [1, 32, 128, 128, 128]    82,976\n",
       "├─BatchNorm3d: 1-30                      [1, 32, 128, 128, 128]    64\n",
       "├─ReLU: 1-31                             [1, 32, 128, 128, 128]    --\n",
       "├─Conv3d: 1-32                           [1, 32, 128, 128, 128]    27,680\n",
       "├─BatchNorm3d: 1-33                      [1, 32, 128, 128, 128]    64\n",
       "├─ReLU: 1-34                             [1, 32, 128, 128, 128]    --\n",
       "├─Conv3d: 1-35                           [1, 1, 128, 128, 128]     33\n",
       "├─Sigmoid: 1-36                          [1, 1, 128, 128, 128]     --\n",
       "==========================================================================================\n",
       "Total params: 1,147,585\n",
       "Trainable params: 1,147,585\n",
       "Non-trainable params: 0\n",
       "Total mult-adds (G): 514.02\n",
       "==========================================================================================\n",
       "Input size (MB): 8.39\n",
       "Forward/backward pass size (MB): 6157.24\n",
       "Params size (MB): 4.59\n",
       "Estimated Total Size (MB): 6170.22\n",
       "=========================================================================================="
      ]
     },
     "execution_count": 10,
     "metadata": {},
     "output_type": "execute_result"
    }
   ],
   "source": [
    "#Displaying a summary of the network architecture, note that this can take a while to run due to the size of the network\n",
    "summary(net,(1,1,128,128,128))"
   ]
  },
  {
   "cell_type": "code",
   "execution_count": 11,
   "id": "0c6ffafd",
   "metadata": {
    "execution": {
     "iopub.execute_input": "2024-03-26T15:50:50.460056Z",
     "iopub.status.busy": "2024-03-26T15:50:50.459674Z",
     "iopub.status.idle": "2024-03-26T15:50:50.482168Z",
     "shell.execute_reply": "2024-03-26T15:50:50.480951Z"
    },
    "papermill": {
     "duration": 0.035434,
     "end_time": "2024-03-26T15:50:50.484703",
     "exception": false,
     "start_time": "2024-03-26T15:50:50.449269",
     "status": "completed"
    },
    "tags": []
   },
   "outputs": [],
   "source": [
    "#Defining the Loss, training and test functions\n",
    "\n",
    "\n",
    "#DiceLoss function that will be used \n",
    "class DiceLoss(nn.Module):\n",
    "    def __init__(self, weight=None, size_average=True):\n",
    "        super(DiceLoss, self).__init__()\n",
    "\n",
    "    def forward(self, inputs, targets, smooth=1):\n",
    "        \n",
    "        #comment out if your model contains a sigmoid or equivalent activation layer\n",
    "        #Sigmoid activiation is part of the network architecture\n",
    "        #inputs = F.sigmoid(inputs)       \n",
    "        \n",
    "        #flatten label and prediction tensors\n",
    "        inputs = inputs.view(-1)\n",
    "        targets = targets.view(-1)\n",
    "        \n",
    "        intersection = (inputs * targets).sum()                            \n",
    "        dice = (2.*intersection + smooth)/(inputs.sum() + targets.sum() + smooth)  \n",
    "        \n",
    "        return 1 - dice\n",
    "    \n",
    "#Prediction accuracy measure\n",
    "def IoU(prediction, ground_truth):\n",
    "    \n",
    "    #We first apply a threshold to the prediction, to ensure a binary mask is made that can be \n",
    "    #compared to the ground truth. Ground truth should already be a binary mask\n",
    "    \n",
    "    threshold = 0.5\n",
    "    \n",
    "    prediction = (prediction.squeeze()>threshold)*1\n",
    "    ground_truth = ground_truth.squeeze()\n",
    "    \n",
    "\n",
    "    pred_diff = prediction.flatten()-ground_truth.flatten()\n",
    "    \n",
    "    TP = torch.sum((pred_diff == 0)*ground_truth.flatten()) #Amount of true positives\n",
    "    FP_or_FN = torch.sum(pred_diff!= 0) #Amount of false positives and false negatives\n",
    "    \n",
    "    value = TP/(TP+FP_or_FN)\n",
    "    \n",
    "    return value\n",
    "\n",
    "def train(train_loader, net, optimizer, criterion):\n",
    "    \"\"\"\n",
    "    Trains network for one epoch in batches.\n",
    "\n",
    "    Args:\n",
    "        train_loader: Data loader for training set.\n",
    "        net: Neural network model.\n",
    "        optimizer: Optimizer (e.g. SGD).\n",
    "        criterion: Loss function (e.g. cross-entropy loss).\n",
    "    \"\"\"\n",
    "\n",
    "    avg_loss = 0\n",
    "    avg_acc = 0\n",
    "\n",
    "    # iterate through batches\n",
    "    for (image,truth) in tqdm.tqdm(train_loader,disable = True):\n",
    "        \n",
    "        \n",
    "        if batch_size == 1:\n",
    "            #print('Batch size is 1')\n",
    "            image = image.unsqueeze(0)\n",
    "            truth = truth.unsqueeze(0)\n",
    "        else:\n",
    "            #print('Batch size is bigger than 1')\n",
    "            #print(image.shape,truth.shape)\n",
    "            image = image.unsqueeze(1)\n",
    "            truth = truth.unsqueeze(1)\n",
    "            #print(image.shape,truth.shape)\n",
    "                \n",
    "        # zero the parameter gradients\n",
    "        optimizer.zero_grad()\n",
    "        \n",
    "        #Check whether the device we are using is GPU (cuda)\n",
    "        #If this is the case, move the training data to the GPU\n",
    "        if next(net.parameters()).is_cuda:\n",
    "            image = image.to(device)\n",
    "            truth = truth.to(device)\n",
    "\n",
    "        # forward + backward + optimize\n",
    "        #print(\"Performing forward step\")\n",
    "        output = net(image)\n",
    "        \n",
    "        #Computing loss\n",
    "        #print(\"Computing Loss\")\n",
    "        loss = criterion(output, truth)\n",
    "        #print(f'Current loss: {loss}')\n",
    "        \n",
    "        #Computing IoU accuracy\n",
    "        #print(\"Computing IoU accuracy\")\n",
    "        accuracy = IoU(output, truth)\n",
    "        #print(f'Current IoU accuracy: {accuracy}')\n",
    "        \n",
    "        #print('Performing backward pass')\n",
    "        loss.backward()\n",
    "        \n",
    "        #print('Optimizer step')\n",
    "        optimizer.step()\n",
    "\n",
    "        # keep track of loss and accuracy\n",
    "        avg_loss += loss\n",
    "        avg_acc += accuracy\n",
    "        \n",
    "        \n",
    "    return avg_loss/len(train_loader), avg_acc/len(train_loader)\n",
    "\n",
    "def test(test_loader, net, criterion):\n",
    "    \"\"\"\n",
    "    Evaluates network in batches.\n",
    "\n",
    "    Args:\n",
    "        test_loader: Data loader for test set.\n",
    "        net: Neural network model.\n",
    "        criterion: Loss function (e.g. cross-entropy loss).\n",
    "    \"\"\"\n",
    "\n",
    "    avg_loss = 0\n",
    "    avg_acc = 0\n",
    "\n",
    "    # Use torch.no_grad to skip gradient calculation, not needed for evaluation\n",
    "    with torch.no_grad():\n",
    "        # iterate through batches\n",
    "        for (image,truth) in test_loader:\n",
    "            \n",
    "            if batch_size == 1:\n",
    "                image = image.unsqueeze(0)\n",
    "                truth = truth.unsqueeze(0)\n",
    "            else:\n",
    "                image = image.unsqueeze(1)\n",
    "                truth = truth.unsqueeze(1)\n",
    "            #Check whether the device we are using is GPU (cuda)\n",
    "            #If this is the case, move the test data to the GPU\n",
    "            if next(net.parameters()).is_cuda:\n",
    "                image = image.to(device)\n",
    "                truth = truth.to(device)\n",
    "            \n",
    "            # forward pass\n",
    "            output = net(image)\n",
    "            loss = criterion(output, truth)\n",
    "            accuracy = IoU(output, truth)\n",
    "\n",
    "            # keep track of loss and accuracy\n",
    "            avg_loss += loss\n",
    "            avg_acc += accuracy\n",
    "            \n",
    "    return avg_loss/len(test_loader), avg_acc/len(test_loader)"
   ]
  },
  {
   "cell_type": "code",
   "execution_count": 12,
   "id": "98871fc0",
   "metadata": {
    "execution": {
     "iopub.execute_input": "2024-03-26T15:50:50.504545Z",
     "iopub.status.busy": "2024-03-26T15:50:50.504148Z"
    },
    "papermill": {
     "duration": null,
     "end_time": null,
     "exception": false,
     "start_time": "2024-03-26T15:50:50.493660",
     "status": "running"
    },
    "tags": []
   },
   "outputs": [
    {
     "name": "stdout",
     "output_type": "stream",
     "text": [
      "False False\n",
      "No previous training run file found, using default settings\n",
      "No previous score found, using default value of 0\n",
      "##################################\n",
      "Checkpoint saving location: /kaggle/working/\n",
      "##################################\n",
      "Current epoch: 0\n"
     ]
    },
    {
     "name": "stdout",
     "output_type": "stream",
     "text": [
      "Train loss: 0.8372451066970825, Train IoU Accuracy: 0.3560611307621002, Epoch Validation loss: 0.7832880020141602, Epoch Validation IoU Accuracy: 0.6779360771179199\n",
      "Checkpoint reached, saving....\n",
      "New highest IoU Validation accuracy reached, saving this best network....\n",
      "##################################\n",
      "##################################\n",
      "Current epoch: 1\n"
     ]
    },
    {
     "name": "stdout",
     "output_type": "stream",
     "text": [
      "Train loss: 0.7890565991401672, Train IoU Accuracy: 0.6511343717575073, Epoch Validation loss: 0.7242223620414734, Epoch Validation IoU Accuracy: 0.7614125609397888\n",
      "Checkpoint reached, saving....\n",
      "New highest IoU Validation accuracy reached, saving this best network....\n",
      "##################################\n",
      "##################################\n",
      "Current epoch: 2\n"
     ]
    },
    {
     "name": "stdout",
     "output_type": "stream",
     "text": [
      "Train loss: 0.6757026314735413, Train IoU Accuracy: 0.750913679599762, Epoch Validation loss: 0.5283710360527039, Epoch Validation IoU Accuracy: 0.8616347312927246\n",
      "Checkpoint reached, saving....\n",
      "New highest IoU Validation accuracy reached, saving this best network....\n",
      "##################################\n",
      "##################################\n",
      "Current epoch: 3\n"
     ]
    },
    {
     "name": "stdout",
     "output_type": "stream",
     "text": [
      "Train loss: 0.45771074295043945, Train IoU Accuracy: 0.8307503461837769, Epoch Validation loss: 0.31222468614578247, Epoch Validation IoU Accuracy: 0.9128618240356445\n",
      "Checkpoint reached, saving....\n",
      "New highest IoU Validation accuracy reached, saving this best network....\n",
      "##################################\n",
      "##################################\n",
      "Current epoch: 4\n"
     ]
    },
    {
     "name": "stdout",
     "output_type": "stream",
     "text": [
      "Train loss: 0.28684142231941223, Train IoU Accuracy: 0.8579739928245544, Epoch Validation loss: 0.2091037631034851, Epoch Validation IoU Accuracy: 0.8691197633743286\n",
      "Checkpoint reached, saving....\n",
      "##################################\n",
      "##################################\n",
      "Current epoch: 5\n"
     ]
    },
    {
     "name": "stdout",
     "output_type": "stream",
     "text": [
      "Train loss: 0.1902640163898468, Train IoU Accuracy: 0.8697104454040527, Epoch Validation loss: 0.13584241271018982, Epoch Validation IoU Accuracy: 0.9017608165740967\n",
      "Checkpoint reached, saving....\n",
      "##################################\n",
      "##################################\n",
      "Current epoch: 6\n"
     ]
    },
    {
     "name": "stdout",
     "output_type": "stream",
     "text": [
      "Train loss: 0.13958235085010529, Train IoU Accuracy: 0.875721275806427, Epoch Validation loss: 0.10669829696416855, Epoch Validation IoU Accuracy: 0.895196795463562\n",
      "Checkpoint reached, saving....\n",
      "##################################\n",
      "##################################\n",
      "Current epoch: 7\n"
     ]
    },
    {
     "name": "stdout",
     "output_type": "stream",
     "text": [
      "Train loss: 0.11269724369049072, Train IoU Accuracy: 0.8774944543838501, Epoch Validation loss: 0.088477723300457, Epoch Validation IoU Accuracy: 0.8963326215744019\n",
      "Checkpoint reached, saving....\n",
      "##################################\n",
      "##################################\n",
      "Current epoch: 8\n"
     ]
    },
    {
     "name": "stdout",
     "output_type": "stream",
     "text": [
      "Train loss: 0.09702128916978836, Train IoU Accuracy: 0.8784114122390747, Epoch Validation loss: 0.08130178600549698, Epoch Validation IoU Accuracy: 0.8904630541801453\n",
      "Checkpoint reached, saving....\n",
      "##################################\n",
      "##################################\n",
      "Current epoch: 9\n"
     ]
    },
    {
     "name": "stdout",
     "output_type": "stream",
     "text": [
      "Train loss: 0.08617450296878815, Train IoU Accuracy: 0.8811288475990295, Epoch Validation loss: 0.07467535883188248, Epoch Validation IoU Accuracy: 0.8902287483215332\n",
      "Checkpoint reached, saving....\n",
      "##################################\n",
      "##################################\n",
      "Current epoch: 10\n"
     ]
    },
    {
     "name": "stdout",
     "output_type": "stream",
     "text": [
      "Train loss: 0.07994285970926285, Train IoU Accuracy: 0.8812336325645447, Epoch Validation loss: 0.06760440766811371, Epoch Validation IoU Accuracy: 0.8954777717590332\n",
      "Checkpoint reached, saving....\n",
      "##################################\n",
      "##################################\n",
      "Current epoch: 11\n"
     ]
    },
    {
     "name": "stdout",
     "output_type": "stream",
     "text": [
      "Train loss: 0.07540491223335266, Train IoU Accuracy: 0.8818146586418152, Epoch Validation loss: 0.0603768415749073, Epoch Validation IoU Accuracy: 0.9028414487838745\n",
      "Checkpoint reached, saving....\n",
      "##################################\n",
      "##################################\n",
      "Current epoch: 12\n"
     ]
    },
    {
     "name": "stdout",
     "output_type": "stream",
     "text": [
      "Train loss: 0.07168883085250854, Train IoU Accuracy: 0.8832114934921265, Epoch Validation loss: 0.07003652304410934, Epoch Validation IoU Accuracy: 0.8815833926200867\n",
      "Checkpoint reached, saving....\n",
      "##################################\n",
      "##################################\n",
      "Current epoch: 13\n"
     ]
    },
    {
     "name": "stdout",
     "output_type": "stream",
     "text": [
      "Train loss: 0.06935472041368484, Train IoU Accuracy: 0.8834097981452942, Epoch Validation loss: 0.05486026406288147, Epoch Validation IoU Accuracy: 0.9059766530990601\n",
      "Checkpoint reached, saving....\n",
      "##################################\n",
      "##################################\n",
      "Current epoch: 14\n"
     ]
    },
    {
     "name": "stdout",
     "output_type": "stream",
     "text": [
      "Train loss: 0.06708301603794098, Train IoU Accuracy: 0.8846067190170288, Epoch Validation loss: 0.04669905826449394, Epoch Validation IoU Accuracy: 0.9188414812088013\n",
      "Checkpoint reached, saving....\n",
      "New highest IoU Validation accuracy reached, saving this best network....\n",
      "##################################\n",
      "##################################\n",
      "Current epoch: 15\n"
     ]
    },
    {
     "name": "stdout",
     "output_type": "stream",
     "text": [
      "Train loss: 0.06523000448942184, Train IoU Accuracy: 0.8857606649398804, Epoch Validation loss: 0.06121376156806946, Epoch Validation IoU Accuracy: 0.8904516100883484\n",
      "Checkpoint reached, saving....\n",
      "##################################\n",
      "##################################\n",
      "Current epoch: 16\n"
     ]
    },
    {
     "name": "stdout",
     "output_type": "stream",
     "text": [
      "Train loss: 0.06429135799407959, Train IoU Accuracy: 0.8858951926231384, Epoch Validation loss: 0.048469945788383484, Epoch Validation IoU Accuracy: 0.9127122759819031\n",
      "Checkpoint reached, saving....\n",
      "##################################\n",
      "##################################\n",
      "Current epoch: 17\n"
     ]
    },
    {
     "name": "stdout",
     "output_type": "stream",
     "text": [
      "Train loss: 0.06281083822250366, Train IoU Accuracy: 0.8872283101081848, Epoch Validation loss: 0.05831647664308548, Epoch Validation IoU Accuracy: 0.8936176300048828\n",
      "Checkpoint reached, saving....\n",
      "##################################\n",
      "##################################\n",
      "Current epoch: 18\n"
     ]
    }
   ],
   "source": [
    "#Perform training\n",
    "\n",
    "#Timezone for saving the time of checkpoints made\n",
    "tz = pytz.timezone('Europe/Vienna')\n",
    "\n",
    "# Define the loss function\n",
    "criterion = DiceLoss()\n",
    "\n",
    "lr = 0.0001\n",
    "end_epoch = 150 #Amount of epochs the authors have used of the to be reproduced paper for the U-net\n",
    "\n",
    "#Set optimizer to Adam\n",
    "optimizer = optim.Adam(net.parameters(), lr = lr)\n",
    "\n",
    "#Defining arrays to store the losses and accuracy scores\n",
    "train_loss_array = []\n",
    "train_acc_array = []\n",
    "val_loss_array = []\n",
    "val_acc_array = []\n",
    "highest_accuracy = 0\n",
    "\n",
    "#Trying to load previous checkpoint, if it exists:\n",
    "checkpoint_file_path =  \"/kaggle/working/checkpoint_file.tar\"\n",
    "bestnetwork_file_path = \"/kaggle/working/bestnetwork.tar\"\n",
    "print(os.path.isfile(checkpoint_file_path), os.path.isfile(bestnetwork_file_path))\n",
    "\n",
    "start_epoch, network, optimizer, train_loss_array, train_acc_array, val_loss_array, val_acc_array = loadprev_training(checkpoint_file_path,device,net,optimizer)\n",
    "highest_accuracy = highest_IoU(bestnetwork_file_path, device) #Loading highest accuracy value from best performing network\n",
    "\n",
    "checkpoint_saving_location =  os.getcwd() + '/'\n",
    "print(\"##################################\")\n",
    "print(f'Checkpoint saving location: {checkpoint_saving_location}')\n",
    "\n",
    "#Perform training for #epochs\n",
    "for epoch in range(start_epoch,end_epoch):  # loop over the dataset multiple times\n",
    "    \n",
    "    print(\"##################################\")\n",
    "    print(f'Current epoch: {epoch}')\n",
    "    \n",
    "    # Train on data\n",
    "    train_loss, train_acc = train(train_loader, net, optimizer, criterion)\n",
    "    \n",
    "    # Test on data\n",
    "    val_loss, val_acc = test(val_loader, net, criterion)\n",
    "    \n",
    "    \n",
    "    print(f'Train loss: {train_loss}, Train IoU Accuracy: {train_acc}, Epoch Validation loss: {val_loss}, Epoch Validation IoU Accuracy: {val_acc}')\n",
    "    \n",
    "    #Appending the scores\n",
    "    train_loss_array.append(train_loss.detach())\n",
    "    train_acc_array.append(train_acc)\n",
    "    val_loss_array.append(val_loss)\n",
    "    val_acc_array.append(val_acc)\n",
    "    \n",
    "    #Every epoch we create a checkpoint where we save the current epoch number,\n",
    "    #The state of the model parameters\n",
    "    #The optimizer state\n",
    "    #The loss and accuracy scores\n",
    "    print(\"Checkpoint reached, saving....\")\n",
    "    torch.save({\n",
    "        'epoch': epoch,\n",
    "        'net_state_dict': net.state_dict(),\n",
    "        'optimizer_state_dict': optimizer.state_dict(),\n",
    "        'loss_acc': {'Train loss': train_loss_array, 'Train accuracy': train_acc_array,\n",
    "                    'Validation loss': val_loss_array, 'Validation accuracy': val_acc_array},\n",
    "        'time': datetime.now(tz)},\n",
    "        checkpoint_saving_location + 'checkpoint_file.tar')\n",
    "    \n",
    "    if val_acc>highest_accuracy:\n",
    "        print(\"New highest IoU Validation accuracy reached, saving this best network....\")\n",
    "        torch.save({\n",
    "            'epoch': epoch,\n",
    "            'net_state_dict': net.state_dict(),\n",
    "            'optimizer_state_dict': optimizer.state_dict(),\n",
    "            'loss_acc': {'Train loss': train_loss_array, 'Train accuracy': train_acc_array,\n",
    "                        'Validation loss': val_loss_array, 'Validation accuracy': val_acc_array},\n",
    "            'time': datetime.now(tz)},\n",
    "            checkpoint_saving_location + 'bestnetwork.tar')\n",
    "        highest_accuracy = val_acc\n",
    "    \n",
    "    print(\"##################################\")\n",
    "    \n",
    "print('Finished Training')"
   ]
  },
  {
   "cell_type": "code",
   "execution_count": null,
   "id": "c1d6ae5c",
   "metadata": {
    "papermill": {
     "duration": null,
     "end_time": null,
     "exception": null,
     "start_time": null,
     "status": "pending"
    },
    "tags": []
   },
   "outputs": [],
   "source": []
  }
 ],
 "metadata": {
  "kaggle": {
   "accelerator": "gpu",
   "dataSources": [
    {
     "datasetId": 4634700,
     "sourceId": 7893505,
     "sourceType": "datasetVersion"
    },
    {
     "datasetId": 4641822,
     "sourceId": 7903171,
     "sourceType": "datasetVersion"
    }
   ],
   "dockerImageVersionId": 30674,
   "isGpuEnabled": true,
   "isInternetEnabled": true,
   "language": "python",
   "sourceType": "notebook"
  },
  "kernelspec": {
   "display_name": "Python 3",
   "language": "python",
   "name": "python3"
  },
  "language_info": {
   "codemirror_mode": {
    "name": "ipython",
    "version": 3
   },
   "file_extension": ".py",
   "mimetype": "text/x-python",
   "name": "python",
   "nbconvert_exporter": "python",
   "pygments_lexer": "ipython3",
   "version": "3.10.13"
  },
  "papermill": {
   "default_parameters": {},
   "duration": null,
   "end_time": null,
   "environment_variables": {},
   "exception": null,
   "input_path": "__notebook__.ipynb",
   "output_path": "__notebook__.ipynb",
   "parameters": {},
   "start_time": "2024-03-26T15:50:22.788864",
   "version": "2.5.0"
  }
 },
 "nbformat": 4,
 "nbformat_minor": 5
}